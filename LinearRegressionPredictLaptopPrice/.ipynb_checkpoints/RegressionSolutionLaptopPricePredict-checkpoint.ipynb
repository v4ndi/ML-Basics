{
 "cells": [
  {
   "cell_type": "markdown",
   "id": "b3b649c2",
   "metadata": {},
   "source": [
    "# Implementation Linear Regresion for predict laptop prices\n",
    "В данном анализе у нас будет выборка данных, состоящая из ноутбуков их характеристик и розничной цены.\n",
    "\n",
    "Описание переменныж: \n",
    "\n",
    "* 'Company' - Строчное  - Производитель товара\n",
    "* 'Product’ -String - Бренд или модель \n",
    "* 'TypeName' -String -Тип (Ноутбук, Ультрабук, Игровой, и т.д)\n",
    "* 'Inches' -Numeric- Размер экрана в дюймах\n",
    "* 'ScreenResolution' -String- Разрешение экрана \n",
    "* 'Cpu' - String - Центральный процессов (CPU)\n",
    "* 'Ram' -String- Количество оперативной памяти\n",
    "* 'Memory' -String- Hard Disk / SSD Memory \n",
    "* 'GPU' -String- -графический процессов (GPU)\n",
    "* 'OpSys' -String- Операционная система\n",
    "* 'Weight' -String- Вес \n",
    "* 'Price_euros' - Ценна в Евро\n"
   ]
  },
  {
   "cell_type": "code",
   "execution_count": 241,
   "id": "b91950d9",
   "metadata": {},
   "outputs": [],
   "source": [
    "import pandas as pd\n",
    "from matplotlib import pyplot as plt\n",
    "import numpy as np\n",
    "from scipy import stats\n",
    "import seaborn as sns\n",
    "from itertools import *"
   ]
  },
  {
   "cell_type": "markdown",
   "id": "158500a9",
   "metadata": {},
   "source": [
    "## Первичный анализ"
   ]
  },
  {
   "cell_type": "code",
   "execution_count": 242,
   "id": "f949e857",
   "metadata": {},
   "outputs": [],
   "source": [
    "df = pd.read_csv(\"Price_euros_train.csv\")\n",
    "df.head()"
   ]
  },
  {
   "cell_type": "code",
   "execution_count": 243,
   "id": "f74c2001",
   "metadata": {},
   "outputs": [],
   "source": [
    "df.shape"
   ]
  },
  {
   "cell_type": "code",
   "execution_count": 244,
   "id": "d812361e",
   "metadata": {},
   "outputs": [],
   "source": [
    "df.isna().sum(axis=1).sum()"
   ]
  },
  {
   "cell_type": "code",
   "execution_count": 245,
   "id": "9d819d4c",
   "metadata": {},
   "outputs": [],
   "source": [
    "df.info()"
   ]
  },
  {
   "cell_type": "markdown",
   "id": "cd29026a",
   "metadata": {},
   "source": [
    "## Работа с пропусками\n"
   ]
  },
  {
   "cell_type": "code",
   "execution_count": 246,
   "id": "bfcdbe08",
   "metadata": {},
   "outputs": [],
   "source": [
    "for i in df.columns:\n",
    "    if(df[i].isna().sum() != 0):\n",
    "        print(f'{i} count empty cells: {df[i].isna().sum()}')\n",
    "df.shape"
   ]
  },
  {
   "cell_type": "markdown",
   "id": "c227904f",
   "metadata": {},
   "source": [
    "### Пропуски в ScreenResolution\n",
    "В данной выборке в большей части встречается расширение 1920x1980. Поэтому было принятно, что пропуски заполнить самым часто встречающимся"
   ]
  },
  {
   "cell_type": "code",
   "execution_count": 247,
   "id": "704c1c0b",
   "metadata": {},
   "outputs": [],
   "source": [
    "df['ScreenResolution'].value_counts()"
   ]
  },
  {
   "cell_type": "code",
   "execution_count": 248,
   "id": "68326763",
   "metadata": {},
   "outputs": [],
   "source": [
    "df['ScreenResolution'] = ['1920x1080' if type(i) == float else i for i in df['ScreenResolution'] ]\n",
    "df['ScreenResolution'].isnull().sum()"
   ]
  },
  {
   "cell_type": "markdown",
   "id": "6d1d9f68",
   "metadata": {},
   "source": [
    "### Работа с пропусками OpSys\n",
    "Тут было принято аналагичное решение, заполнить самым часто встречающимся "
   ]
  },
  {
   "cell_type": "code",
   "execution_count": 249,
   "id": "cffec889",
   "metadata": {},
   "outputs": [],
   "source": [
    "df['OpSys'].value_counts()"
   ]
  },
  {
   "cell_type": "code",
   "execution_count": 250,
   "id": "94f82e40",
   "metadata": {},
   "outputs": [],
   "source": [
    "df['OpSys'] = ['Windows 10' if type(i) == float else i for i in df['OpSys']]\n",
    "df['OpSys'].value_counts()"
   ]
  },
  {
   "cell_type": "markdown",
   "id": "7eb7e1aa",
   "metadata": {},
   "source": [
    "### Работа с пропусками в Weight\n",
    "Проанализировав распределение данных, было принято решение заполнить пропуски средним значением по выборке"
   ]
  },
  {
   "cell_type": "code",
   "execution_count": 251,
   "id": "7d001d08",
   "metadata": {},
   "outputs": [],
   "source": [
    "df['Weight'] = df['Weight'].str.replace('kg', '').astype(float)\n",
    "df['Weight'].hist()"
   ]
  },
  {
   "cell_type": "code",
   "execution_count": 252,
   "id": "611bb6d4",
   "metadata": {},
   "outputs": [],
   "source": [
    "df['Weight'] = [df['Weight'].mean() if np.isnan(i) else i for i in df['Weight']]"
   ]
  },
  {
   "cell_type": "code",
   "execution_count": 253,
   "id": "18edabdf",
   "metadata": {},
   "outputs": [],
   "source": [
    "df.isna().sum()"
   ]
  },
  {
   "cell_type": "markdown",
   "id": "541d1f3b",
   "metadata": {},
   "source": [
    "От пропусков мы успешно избавились"
   ]
  },
  {
   "cell_type": "markdown",
   "id": "b19bb1d7",
   "metadata": {},
   "source": [
    "## Подготовка выборки для дальнешийх исследований\n",
    "*Убираем GB из переменной Ram"
   ]
  },
  {
   "cell_type": "code",
   "execution_count": 254,
   "id": "64377eba",
   "metadata": {},
   "outputs": [],
   "source": [
    "df['Ram'].value_counts() ## Все в гб"
   ]
  },
  {
   "cell_type": "code",
   "execution_count": 255,
   "id": "2f7d99e3",
   "metadata": {},
   "outputs": [],
   "source": [
    "df['Ram'] = df['Ram'].str.replace('GB', '')\n",
    "df['Ram'] = df['Ram'].astype(float)\n",
    "df['Ram'].describe()"
   ]
  },
  {
   "cell_type": "code",
   "execution_count": 256,
   "id": "1d6941f1",
   "metadata": {},
   "outputs": [],
   "source": [
    "df['WidthAndHeight'] = [i.split()[-1] if type(i) != float else np.nan for i in df['ScreenResolution']]\n",
    "\n",
    "df['Width'] = [i.split('x')[0] if type(i) != float else np.nan for i in df['WidthAndHeight']]\n",
    "df['Height'] = [i.split('x')[-1] if type(i) != float else np.nan for i in df['WidthAndHeight']]\n",
    "\n",
    "df['Touchscreen'] = [1 if (type(i) != float) and ('Touchscreen' in i) else 0 for i in df['ScreenResolution']]\n",
    "\n",
    "df['Width'] = df['Width'].astype(float)\n",
    "df['Height'] = df['Height'].astype(float)\n",
    "\n",
    "df.head()"
   ]
  },
  {
   "cell_type": "markdown",
   "id": "7fd38936",
   "metadata": {},
   "source": [
    "### Удаление ненужных столбцов"
   ]
  },
  {
   "cell_type": "code",
   "execution_count": 257,
   "id": "2c7c66c6",
   "metadata": {},
   "outputs": [],
   "source": [
    "df.drop(['ScreenResolution'], axis=1, inplace=True)\n",
    "df.drop(['WidthAndHeight'], axis=1, inplace=True)\n",
    "df.drop(['laptop_ID'], axis=1, inplace=True)\n",
    "df.drop(['Gpu'], axis=1, inplace=True)\n",
    "df.drop(['Product'], axis=1, inplace=True)\n",
    "df.head()"
   ]
  },
  {
   "cell_type": "markdown",
   "id": "d0244353",
   "metadata": {},
   "source": [
    "### Cpu \n",
    "Разобьем на бренд и частоту"
   ]
  },
  {
   "cell_type": "code",
   "execution_count": 258,
   "id": "a4cc188b",
   "metadata": {},
   "outputs": [],
   "source": [
    "df['frequency'] =  [x.split(' ')[-1].replace('GHz', '') for x in df['Cpu']]\n",
    "df['frequency'] = df['frequency'].astype(float)\n",
    "\n",
    "df['brand_cpu'] =  [x.split(' ')[0] for x in df['Cpu']]\n",
    "\n",
    "df.drop(['Cpu'], axis=1, inplace=True)\n",
    "df.head()"
   ]
  },
  {
   "cell_type": "markdown",
   "id": "1b776cec",
   "metadata": {},
   "source": [
    "### Сопоставим ОС с числом\n",
    "* Windows - 0\n",
    "* MacOs - 1\n",
    "* Linux - 2\n",
    "* Остальные - 3"
   ]
  },
  {
   "cell_type": "code",
   "execution_count": 259,
   "id": "f34328fc",
   "metadata": {},
   "outputs": [],
   "source": [
    "df['OpSys'].value_counts()"
   ]
  },
  {
   "cell_type": "code",
   "execution_count": 260,
   "id": "cfcc1b2c",
   "metadata": {},
   "outputs": [],
   "source": [
    "df['OS'] = df['OpSys']\n",
    "\n",
    "df.loc[df['OS'].str.contains('Windows'), 'OS'] = '0'\n",
    "df.loc[df['OS'].str.contains('macOS|Mac OS X'), 'OS'] = '1'\n",
    "df.loc[df['OS'].str.contains('Linux'), 'OS'] = '2'\n",
    "df.loc[~df['OS'].isin(['0', '1', '2']), 'OS'] = 3\n",
    "\n",
    "df.drop(['OpSys'], axis=1, inplace=True)\n",
    "\n",
    "df['OS'].value_counts()"
   ]
  },
  {
   "cell_type": "code",
   "execution_count": 261,
   "id": "3e748d65",
   "metadata": {},
   "outputs": [],
   "source": [
    "df.head()"
   ]
  },
  {
   "cell_type": "markdown",
   "id": "358e4cfa",
   "metadata": {},
   "source": [
    "### Преобразование Memory\n",
    "Так как у нас в данной переменной лежат данные и в Гб И Тб, нужно это учесть. \n",
    "Добавим новые столбцы HDD, SSD, Flash Storage, Hybrid. Инициализируем их числовыми значениями, если они есть. В противном случае нулем. "
   ]
  },
  {
   "cell_type": "code",
   "execution_count": 262,
   "id": "5c505d04",
   "metadata": {},
   "outputs": [],
   "source": [
    "df['Memory'].value_counts()"
   ]
  },
  {
   "cell_type": "code",
   "execution_count": 263,
   "id": "33646b9d",
   "metadata": {},
   "outputs": [],
   "source": [
    "def separation_components(str):\n",
    "    my_list = str.split(' ')\n",
    "    my_list = list(filter(None, my_list))\n",
    "\n",
    "    str = ' '.join(my_list)\n",
    "\n",
    "    ans = {'HDD': 0, 'SSD': 0, 'Flash Storage': 0, 'Hybrid': 0}\n",
    "    components = str.split(' + ')\n",
    "\n",
    "    for i in components:\n",
    "        disk_type = i.split(' ')[1:]\n",
    "        disk_type = ' '.join(disk_type)\n",
    "        \n",
    "        memory_size = i.split(' ')[0].replace('GB', '')\n",
    "\n",
    "        if('TB' in memory_size):\n",
    "            memory_size = memory_size.replace('TB', '')\n",
    "            memory_size = float(memory_size) * 1000\n",
    "            \n",
    "        ans[disk_type] = memory_size\n",
    "\n",
    "    return ans"
   ]
  },
  {
   "cell_type": "code",
   "execution_count": 264,
   "id": "2cb9dec3",
   "metadata": {},
   "outputs": [],
   "source": [
    "HDD = []\n",
    "SSD = []\n",
    "Flash_Storage = []\n",
    "Hybrid = []\n",
    "\n",
    "for i in df['Memory']:\n",
    "    memory_types_size = separation_components(i)\n",
    "    HDD.append(memory_types_size['HDD'])\n",
    "    SSD.append(memory_types_size['SSD'])\n",
    "    Flash_Storage.append(memory_types_size['Flash Storage'])\n",
    "    Hybrid.append(memory_types_size['Hybrid'])\n",
    "\n",
    "df['HDD'] = HDD\n",
    "df['SSD'] = SSD\n",
    "df['Flash Storage'] = Flash_Storage\n",
    "df['Hybrid'] = Hybrid"
   ]
  },
  {
   "cell_type": "code",
   "execution_count": 265,
   "id": "d50c52ca",
   "metadata": {},
   "outputs": [],
   "source": [
    "df.head()"
   ]
  },
  {
   "cell_type": "code",
   "execution_count": 266,
   "id": "4d531c56",
   "metadata": {},
   "outputs": [],
   "source": [
    "df.drop(['Memory'], axis=1, inplace=True)"
   ]
  },
  {
   "cell_type": "code",
   "execution_count": 267,
   "id": "4ae00568",
   "metadata": {},
   "outputs": [],
   "source": [
    "df.head()"
   ]
  },
  {
   "cell_type": "markdown",
   "id": "6b3d6ef8",
   "metadata": {},
   "source": [
    "### "
   ]
  },
  {
   "cell_type": "code",
   "execution_count": 268,
   "id": "b4f66ce9",
   "metadata": {},
   "outputs": [],
   "source": [
    "df['OS'] = df['OS'].astype(float)\n",
    "df['Flash Storage'] = df['Flash Storage'].astype(float)\n",
    "df['Hybrid'] = df['Hybrid'].astype(float)\n",
    "df['SSD'] = df['SSD'].astype(float)\n",
    "df['HDD'] = df['HDD'].astype(float)\n",
    "df.info()"
   ]
  },
  {
   "cell_type": "markdown",
   "id": "6d13ce7e",
   "metadata": {},
   "source": [
    "### Brand_cpu\n",
    "Преобрзуем в числовые значения \n",
    "* Intel - 0\n",
    "* Amd - 1\n",
    "* Samsung - 2\n",
    "* В других случаях - 3"
   ]
  },
  {
   "cell_type": "code",
   "execution_count": 269,
   "id": "b3061c00",
   "metadata": {},
   "outputs": [],
   "source": [
    "df['brand_cpu'].value_counts()"
   ]
  },
  {
   "cell_type": "code",
   "execution_count": 270,
   "id": "2cbcadef",
   "metadata": {},
   "outputs": [],
   "source": [
    "replace_dict = {'Intel': 0, 'Amd': 1, 'Samsung': 2}\n",
    "df['brand_cpu'] = df['brand_cpu'].map(replace_dict).fillna(3)"
   ]
  },
  {
   "cell_type": "code",
   "execution_count": 271,
   "id": "0d676f8e",
   "metadata": {},
   "outputs": [],
   "source": [
    "df['brand_cpu'].value_counts()"
   ]
  },
  {
   "cell_type": "code",
   "execution_count": 272,
   "id": "5aecd0a2",
   "metadata": {},
   "outputs": [],
   "source": [
    "df.head()"
   ]
  },
  {
   "cell_type": "markdown",
   "id": "8e7ab8aa",
   "metadata": {},
   "source": [
    "### TypeName\n",
    "Наглядной зависимости между TypeNmae и Price_euros не наблюдается. Поэтому пренебрежем этой переменной и удалим ее из нашего датасета."
   ]
  },
  {
   "cell_type": "code",
   "execution_count": 273,
   "id": "72092fe4",
   "metadata": {},
   "outputs": [],
   "source": [
    "df['TypeName'].value_counts()"
   ]
  },
  {
   "cell_type": "code",
   "execution_count": 274,
   "id": "ff1b6a96",
   "metadata": {},
   "outputs": [],
   "source": [
    "plt.plot(df['TypeName'], df['Price_euros'], 'o')\n",
    "plt.xlabel('TypeName')\n",
    "plt.ylabel('Price_euros')\n",
    "plt.show()"
   ]
  },
  {
   "cell_type": "code",
   "execution_count": 275,
   "id": "0d667e1c",
   "metadata": {},
   "outputs": [],
   "source": [
    "df.drop(['TypeName'], inplace=True, axis=1)"
   ]
  },
  {
   "cell_type": "markdown",
   "id": "b47447f0",
   "metadata": {},
   "source": [
    "### Company"
   ]
  },
  {
   "cell_type": "code",
   "execution_count": 276,
   "id": "06cac737",
   "metadata": {},
   "outputs": [],
   "source": [
    "df.head()"
   ]
  },
  {
   "cell_type": "code",
   "execution_count": 277,
   "id": "b850e846",
   "metadata": {},
   "outputs": [],
   "source": [
    "company_names = df['Company'].unique()\n",
    "\n",
    "company_dic = {}\n",
    "\n",
    "for i in range(len(company_names)):\n",
    "    company_dic[company_names[i]] = i\n",
    "    \n",
    "company_dic"
   ]
  },
  {
   "cell_type": "code",
   "execution_count": 278,
   "id": "7b3f0915",
   "metadata": {},
   "outputs": [],
   "source": [
    "df['new_company'] = df['Company'].map(company_dic).fillna(18)"
   ]
  },
  {
   "cell_type": "code",
   "execution_count": 279,
   "id": "27e900f3",
   "metadata": {},
   "outputs": [],
   "source": [
    "df"
   ]
  },
  {
   "cell_type": "code",
   "execution_count": 280,
   "id": "0fa56646",
   "metadata": {
    "scrolled": true
   },
   "outputs": [],
   "source": [
    "df.drop(['Company'], axis=1, inplace=True)"
   ]
  },
  {
   "cell_type": "code",
   "execution_count": 281,
   "id": "75302a2a",
   "metadata": {},
   "outputs": [],
   "source": [
    "df.head()"
   ]
  },
  {
   "cell_type": "code",
   "execution_count": 282,
   "id": "9068999c",
   "metadata": {},
   "outputs": [],
   "source": [
    "plt.figure(figsize=(16, 14))\n",
    "\n",
    "dataplot = sns.heatmap(df.corr(), cmap=\"RdPu\", annot=True,annot_kws={'fontsize': 15})\n",
    "\n",
    "plt.title(\"Карта корреляции данных\", fontsize=18)\n",
    "plt.xticks(fontsize=14)\n",
    "plt.yticks(fontsize=14)\n",
    "\n",
    "plt.show()"
   ]
  },
  {
   "cell_type": "markdown",
   "id": "1aa13389",
   "metadata": {},
   "source": [
    "## Linear Regression  "
   ]
  },
  {
   "cell_type": "code",
   "execution_count": 283,
   "id": "29265ee3",
   "metadata": {},
   "outputs": [],
   "source": [
    "from sklearn.compose import ColumnTransformer\n",
    "from sklearn.pipeline import Pipeline\n",
    "from sklearn.preprocessing import OneHotEncoder\n",
    "from sklearn.metrics import r2_score,mean_absolute_error\n",
    "from sklearn.linear_model import LinearRegression,Ridge,Lasso\n",
    "from sklearn.neighbors import KNeighborsRegressor\n",
    "from sklearn.tree import DecisionTreeRegressor\n",
    "from sklearn.ensemble import RandomForestRegressor,GradientBoostingRegressor,AdaBoostRegressor,ExtraTreesRegressor\n",
    "from sklearn.svm import SVR"
   ]
  },
  {
   "cell_type": "code",
   "execution_count": 284,
   "id": "a7b8c165",
   "metadata": {},
   "outputs": [],
   "source": [
    "from sklearn.compose import ColumnTransformer\n",
    "from sklearn.preprocessing import OneHotEncoder"
   ]
  },
  {
   "cell_type": "code",
   "execution_count": 285,
   "id": "863434ee",
   "metadata": {},
   "outputs": [],
   "source": [
    "X = df.drop(['Price_euros'], axis=1)\n",
    "y = df['Price_euros']"
   ]
  },
  {
   "cell_type": "code",
   "execution_count": 286,
   "id": "f4e5b2e2",
   "metadata": {},
   "outputs": [],
   "source": [
    "from sklearn.model_selection import train_test_split\n",
    "\n",
    "X_train, X_test, y_train, y_test = train_test_split(X, y, test_size=0.15, random_state=42)\n",
    "\n",
    "print(f'Train dataset size: {X_train.shape}, {y_train.shape}')\n",
    "print(f'Test dataset size: {X_test.shape}, {y_test.shape}')"
   ]
  },
  {
   "cell_type": "code",
   "execution_count": 287,
   "id": "9de6bace",
   "metadata": {},
   "outputs": [],
   "source": [
    "from sklearn.linear_model import LinearRegression\n",
    "\n",
    "model = LinearRegression()\n",
    "\n",
    "model.fit(X_train, y_train)"
   ]
  },
  {
   "cell_type": "code",
   "execution_count": 288,
   "id": "e8c2aca6",
   "metadata": {},
   "outputs": [],
   "source": [
    "y_pred = model.predict(X_test)"
   ]
  },
  {
   "cell_type": "code",
   "execution_count": 289,
   "id": "4322c315",
   "metadata": {},
   "outputs": [],
   "source": [
    "from sklearn import metrics \n",
    "\n",
    "print(\"MAE\", metrics.mean_absolute_error(y_test, y_pred))\n",
    "print(\"MSE\", metrics.mean_squared_error(y_test, y_pred))\n",
    "print(\"R2 Score:\", model.score(X_test, y_test))"
   ]
  },
  {
   "cell_type": "markdown",
   "id": "9fe1aaf8",
   "metadata": {},
   "source": [
    "## Кроссвалидация"
   ]
  },
  {
   "cell_type": "code",
   "execution_count": 290,
   "id": "b217d28b",
   "metadata": {},
   "outputs": [],
   "source": [
    "from sklearn.model_selection import KFold, cross_val_score\n",
    "\n",
    "# Define the number of folds for cross-validation\n",
    "k = 10\n",
    "kf = KFold(n_splits=k, shuffle=True, random_state=42)"
   ]
  },
  {
   "cell_type": "code",
   "execution_count": 291,
   "id": "87296590",
   "metadata": {},
   "outputs": [],
   "source": [
    "lin_reg = LinearRegression()\n",
    "\n",
    "scores = cross_val_score(lin_reg, X, y, cv=kf, scoring='r2')\n",
    "scores"
   ]
  },
  {
   "cell_type": "code",
   "execution_count": 292,
   "id": "4dada68d",
   "metadata": {},
   "outputs": [],
   "source": [
    "mean_score = np.mean(scores)\n",
    "mean_score"
   ]
  },
  {
   "cell_type": "markdown",
   "id": "61bd83da",
   "metadata": {},
   "source": [
    "## Test data"
   ]
  },
  {
   "cell_type": "code",
   "execution_count": 293,
   "id": "b9dcdad2",
   "metadata": {},
   "outputs": [],
   "source": [
    "df = pd.read_csv('Price_euros_test.csv')\n",
    "df"
   ]
  },
  {
   "cell_type": "markdown",
   "id": "85b2885a",
   "metadata": {},
   "source": [
    "### Подготовим тестувую выборку"
   ]
  },
  {
   "cell_type": "code",
   "execution_count": 294,
   "id": "d6da659a",
   "metadata": {},
   "outputs": [],
   "source": [
    "df['ScreenResolution'] = ['1920x1080' if type(i) == float else i for i in df['ScreenResolution'] ]\n",
    "df['ScreenResolution'].isnull().sum()"
   ]
  },
  {
   "cell_type": "code",
   "execution_count": 295,
   "id": "050876dd",
   "metadata": {},
   "outputs": [],
   "source": [
    "df['OpSys'] = ['Windows 10' if type(i) == float else i for i in df['OpSys']]\n",
    "df['OpSys'].value_counts()"
   ]
  },
  {
   "cell_type": "code",
   "execution_count": 296,
   "id": "85478d83",
   "metadata": {},
   "outputs": [],
   "source": [
    "df['Weight'] = df['Weight'].str.replace('kg', '').astype(float)\n",
    "df['Weight'] = [df['Weight'].mean() if np.isnan(i) else i for i in df['Weight']]"
   ]
  },
  {
   "cell_type": "code",
   "execution_count": 297,
   "id": "b42dfc20",
   "metadata": {},
   "outputs": [],
   "source": [
    "df['Ram'] = df['Ram'].str.replace('GB', '')\n",
    "df['Ram'] = df['Ram'].astype(float)"
   ]
  },
  {
   "cell_type": "code",
   "execution_count": 298,
   "id": "05fbf51c",
   "metadata": {},
   "outputs": [],
   "source": [
    "df['WidthAndHeight'] = [i.split()[-1] if type(i) != float else np.nan for i in df['ScreenResolution']]\n",
    "\n",
    "df['Width'] = [i.split('x')[0] if type(i) != float else np.nan for i in df['WidthAndHeight']]\n",
    "df['Height'] = [i.split('x')[-1] if type(i) != float else np.nan for i in df['WidthAndHeight']]\n",
    "\n",
    "df['Touchscreen'] = [1 if (type(i) != float) and ('Touchscreen' in i) else 0 for i in df['ScreenResolution']]\n",
    "\n",
    "df['Width'] = df['Width'].astype(float)\n",
    "df['Height'] = df['Height'].astype(float)\n",
    "\n",
    "df.head()"
   ]
  },
  {
   "cell_type": "code",
   "execution_count": 299,
   "id": "f17632cc",
   "metadata": {},
   "outputs": [],
   "source": [
    "df.drop(['ScreenResolution'], axis=1, inplace=True)\n",
    "df.drop(['WidthAndHeight'], axis=1, inplace=True)\n",
    "df.drop(['laptop_ID'], axis=1, inplace=True)\n",
    "df.drop(['Gpu'], axis=1, inplace=True)\n",
    "df.drop(['Product'], axis=1, inplace=True)\n",
    "df.head()"
   ]
  },
  {
   "cell_type": "code",
   "execution_count": 300,
   "id": "ff9e4609",
   "metadata": {},
   "outputs": [],
   "source": [
    "df['frequency'] =  [x.split(' ')[-1].replace('GHz', '') for x in df['Cpu']]\n",
    "df['frequency'] = df['frequency'].astype(float)\n",
    "\n",
    "df['brand_cpu'] =  [x.split(' ')[0] for x in df['Cpu']]\n",
    "\n",
    "df.drop(['Cpu'], axis=1, inplace=True)\n",
    "df.head()"
   ]
  },
  {
   "cell_type": "code",
   "execution_count": 301,
   "id": "5bcd7c74",
   "metadata": {},
   "outputs": [],
   "source": [
    "df['OS'] = df['OpSys']\n",
    "\n",
    "df.loc[df['OS'].str.contains('Windows'), 'OS'] = '0'\n",
    "df.loc[df['OS'].str.contains('macOS|Mac OS X'), 'OS'] = '1'\n",
    "df.loc[df['OS'].str.contains('Linux'), 'OS'] = '2'\n",
    "df.loc[~df['OS'].isin(['0', '1', '2']), 'OS'] = 3\n",
    "\n",
    "df.drop(['OpSys'], axis=1, inplace=True)\n",
    "\n",
    "df['OS'].value_counts()"
   ]
  },
  {
   "cell_type": "code",
   "execution_count": 302,
   "id": "00076d97",
   "metadata": {},
   "outputs": [],
   "source": [
    "HDD = []\n",
    "SSD = []\n",
    "Flash_Storage = []\n",
    "Hybrid = []\n",
    "\n",
    "for i in df['Memory']:\n",
    "    memory_types_size = separation_components(i)\n",
    "    HDD.append(memory_types_size['HDD'])\n",
    "    SSD.append(memory_types_size['SSD'])\n",
    "    Flash_Storage.append(memory_types_size['Flash Storage'])\n",
    "    Hybrid.append(memory_types_size['Hybrid'])\n",
    "\n",
    "df['HDD'] = HDD\n",
    "df['SSD'] = SSD\n",
    "df['Flash Storage'] = Flash_Storage\n",
    "df['Hybrid'] = Hybrid\n",
    "df.drop(['Memory'], axis=1, inplace=True)"
   ]
  },
  {
   "cell_type": "code",
   "execution_count": 303,
   "id": "9508f408",
   "metadata": {},
   "outputs": [],
   "source": [
    "df.head()"
   ]
  },
  {
   "cell_type": "code",
   "execution_count": 304,
   "id": "83a0d5d8",
   "metadata": {},
   "outputs": [],
   "source": [
    "df['OS'] = df['OS'].astype(float)\n",
    "df['Flash Storage'] = df['Flash Storage'].astype(float)\n",
    "df['Hybrid'] = df['Hybrid'].astype(float)\n",
    "df['SSD'] = df['SSD'].astype(float)\n",
    "df['HDD'] = df['HDD'].astype(float)\n",
    "df.info()"
   ]
  },
  {
   "cell_type": "code",
   "execution_count": 305,
   "id": "b6aeb648",
   "metadata": {},
   "outputs": [],
   "source": [
    "replace_dict = {'Intel': 0, 'Amd': 1, 'Samsung': 2}\n",
    "df['brand_cpu'] = df['brand_cpu'].map(replace_dict).fillna(3)"
   ]
  },
  {
   "cell_type": "code",
   "execution_count": 306,
   "id": "d8fdcd35",
   "metadata": {},
   "outputs": [],
   "source": [
    "df.drop(['TypeName'], inplace=True, axis=1)"
   ]
  },
  {
   "cell_type": "code",
   "execution_count": 307,
   "id": "d92b4e64",
   "metadata": {},
   "outputs": [],
   "source": [
    "company_names = df['Company'].unique()\n",
    "\n",
    "company_dic = {}\n",
    "\n",
    "for i in range(len(company_names)):\n",
    "    company_dic[company_names[i]] = i\n",
    "    \n",
    "company_dic"
   ]
  },
  {
   "cell_type": "code",
   "execution_count": 308,
   "id": "7ae87e36",
   "metadata": {},
   "outputs": [],
   "source": [
    "df['new_company'] = df['Company'].map(company_dic).fillna(18)"
   ]
  },
  {
   "cell_type": "code",
   "execution_count": 309,
   "id": "b14ec3ec",
   "metadata": {},
   "outputs": [],
   "source": [
    "df.drop(['Company'], axis=1, inplace=True)"
   ]
  },
  {
   "cell_type": "code",
   "execution_count": 317,
   "id": "467f23f7",
   "metadata": {},
   "outputs": [
    {
     "data": {
      "text/html": [
       "<div>\n",
       "<style scoped>\n",
       "    .dataframe tbody tr th:only-of-type {\n",
       "        vertical-align: middle;\n",
       "    }\n",
       "\n",
       "    .dataframe tbody tr th {\n",
       "        vertical-align: top;\n",
       "    }\n",
       "\n",
       "    .dataframe thead th {\n",
       "        text-align: right;\n",
       "    }\n",
       "</style>\n",
       "<table border=\"1\" class=\"dataframe\">\n",
       "  <thead>\n",
       "    <tr style=\"text-align: right;\">\n",
       "      <th></th>\n",
       "      <th>Inches</th>\n",
       "      <th>Ram</th>\n",
       "      <th>Weight</th>\n",
       "      <th>Width</th>\n",
       "      <th>Height</th>\n",
       "      <th>Touchscreen</th>\n",
       "      <th>frequency</th>\n",
       "      <th>brand_cpu</th>\n",
       "      <th>OS</th>\n",
       "      <th>HDD</th>\n",
       "      <th>SSD</th>\n",
       "      <th>Flash Storage</th>\n",
       "      <th>Hybrid</th>\n",
       "      <th>new_company</th>\n",
       "    </tr>\n",
       "  </thead>\n",
       "  <tbody>\n",
       "    <tr>\n",
       "      <th>0</th>\n",
       "      <td>15.6</td>\n",
       "      <td>4.0</td>\n",
       "      <td>2.10</td>\n",
       "      <td>1366.0</td>\n",
       "      <td>768.0</td>\n",
       "      <td>0</td>\n",
       "      <td>3.0</td>\n",
       "      <td>3.0</td>\n",
       "      <td>0.0</td>\n",
       "      <td>1000.0</td>\n",
       "      <td>0.0</td>\n",
       "      <td>0.0</td>\n",
       "      <td>0.0</td>\n",
       "      <td>0</td>\n",
       "    </tr>\n",
       "    <tr>\n",
       "      <th>1</th>\n",
       "      <td>14.0</td>\n",
       "      <td>16.0</td>\n",
       "      <td>1.95</td>\n",
       "      <td>1920.0</td>\n",
       "      <td>1080.0</td>\n",
       "      <td>0</td>\n",
       "      <td>2.8</td>\n",
       "      <td>0.0</td>\n",
       "      <td>0.0</td>\n",
       "      <td>0.0</td>\n",
       "      <td>1000.0</td>\n",
       "      <td>0.0</td>\n",
       "      <td>0.0</td>\n",
       "      <td>1</td>\n",
       "    </tr>\n",
       "    <tr>\n",
       "      <th>2</th>\n",
       "      <td>15.6</td>\n",
       "      <td>8.0</td>\n",
       "      <td>1.70</td>\n",
       "      <td>1920.0</td>\n",
       "      <td>1080.0</td>\n",
       "      <td>0</td>\n",
       "      <td>1.8</td>\n",
       "      <td>0.0</td>\n",
       "      <td>0.0</td>\n",
       "      <td>0.0</td>\n",
       "      <td>256.0</td>\n",
       "      <td>0.0</td>\n",
       "      <td>0.0</td>\n",
       "      <td>2</td>\n",
       "    </tr>\n",
       "    <tr>\n",
       "      <th>3</th>\n",
       "      <td>17.3</td>\n",
       "      <td>16.0</td>\n",
       "      <td>2.99</td>\n",
       "      <td>1920.0</td>\n",
       "      <td>1080.0</td>\n",
       "      <td>0</td>\n",
       "      <td>2.8</td>\n",
       "      <td>0.0</td>\n",
       "      <td>0.0</td>\n",
       "      <td>1000.0</td>\n",
       "      <td>256.0</td>\n",
       "      <td>0.0</td>\n",
       "      <td>0.0</td>\n",
       "      <td>2</td>\n",
       "    </tr>\n",
       "    <tr>\n",
       "      <th>4</th>\n",
       "      <td>15.6</td>\n",
       "      <td>12.0</td>\n",
       "      <td>2.25</td>\n",
       "      <td>1366.0</td>\n",
       "      <td>768.0</td>\n",
       "      <td>0</td>\n",
       "      <td>2.5</td>\n",
       "      <td>0.0</td>\n",
       "      <td>0.0</td>\n",
       "      <td>1000.0</td>\n",
       "      <td>0.0</td>\n",
       "      <td>0.0</td>\n",
       "      <td>0.0</td>\n",
       "      <td>3</td>\n",
       "    </tr>\n",
       "  </tbody>\n",
       "</table>\n",
       "</div>"
      ],
      "text/plain": [
       "   Inches   Ram  Weight   Width  Height  Touchscreen  frequency  brand_cpu  \\\n",
       "0    15.6   4.0    2.10  1366.0   768.0            0        3.0        3.0   \n",
       "1    14.0  16.0    1.95  1920.0  1080.0            0        2.8        0.0   \n",
       "2    15.6   8.0    1.70  1920.0  1080.0            0        1.8        0.0   \n",
       "3    17.3  16.0    2.99  1920.0  1080.0            0        2.8        0.0   \n",
       "4    15.6  12.0    2.25  1366.0   768.0            0        2.5        0.0   \n",
       "\n",
       "    OS     HDD     SSD  Flash Storage  Hybrid  new_company  \n",
       "0  0.0  1000.0     0.0            0.0     0.0            0  \n",
       "1  0.0     0.0  1000.0            0.0     0.0            1  \n",
       "2  0.0     0.0   256.0            0.0     0.0            2  \n",
       "3  0.0  1000.0   256.0            0.0     0.0            2  \n",
       "4  0.0  1000.0     0.0            0.0     0.0            3  "
      ]
     },
     "execution_count": 317,
     "metadata": {},
     "output_type": "execute_result"
    }
   ],
   "source": [
    "df.head()"
   ]
  },
  {
   "cell_type": "markdown",
   "id": "292e8898",
   "metadata": {},
   "source": [
    "## Predict"
   ]
  },
  {
   "cell_type": "code",
   "execution_count": 311,
   "id": "37c977e7",
   "metadata": {},
   "outputs": [],
   "source": [
    "X_test = df\n",
    "y_pred = model.predict(X_test)\n",
    "y_pred"
   ]
  },
  {
   "cell_type": "code",
   "execution_count": 312,
   "id": "45114517",
   "metadata": {},
   "outputs": [],
   "source": [
    "result = pd.DataFrame()\n",
    "result['Price_euros'] = y_pred"
   ]
  },
  {
   "cell_type": "code",
   "execution_count": 313,
   "id": "700afd51",
   "metadata": {},
   "outputs": [],
   "source": [
    "result.to_csv('result.csv')"
   ]
  },
  {
   "cell_type": "code",
   "execution_count": 318,
   "id": "f2d4d3e0",
   "metadata": {},
   "outputs": [
    {
     "data": {
      "text/html": [
       "<div>\n",
       "<style scoped>\n",
       "    .dataframe tbody tr th:only-of-type {\n",
       "        vertical-align: middle;\n",
       "    }\n",
       "\n",
       "    .dataframe tbody tr th {\n",
       "        vertical-align: top;\n",
       "    }\n",
       "\n",
       "    .dataframe thead th {\n",
       "        text-align: right;\n",
       "    }\n",
       "</style>\n",
       "<table border=\"1\" class=\"dataframe\">\n",
       "  <thead>\n",
       "    <tr style=\"text-align: right;\">\n",
       "      <th></th>\n",
       "      <th>Price_euros</th>\n",
       "    </tr>\n",
       "  </thead>\n",
       "  <tbody>\n",
       "    <tr>\n",
       "      <th>0</th>\n",
       "      <td>339.569281</td>\n",
       "    </tr>\n",
       "    <tr>\n",
       "      <th>1</th>\n",
       "      <td>2459.263758</td>\n",
       "    </tr>\n",
       "    <tr>\n",
       "      <th>2</th>\n",
       "      <td>968.152623</td>\n",
       "    </tr>\n",
       "    <tr>\n",
       "      <th>3</th>\n",
       "      <td>1696.515924</td>\n",
       "    </tr>\n",
       "    <tr>\n",
       "      <th>4</th>\n",
       "      <td>1036.547167</td>\n",
       "    </tr>\n",
       "    <tr>\n",
       "      <th>...</th>\n",
       "      <td>...</td>\n",
       "    </tr>\n",
       "    <tr>\n",
       "      <th>190</th>\n",
       "      <td>758.287561</td>\n",
       "    </tr>\n",
       "    <tr>\n",
       "      <th>191</th>\n",
       "      <td>737.516935</td>\n",
       "    </tr>\n",
       "    <tr>\n",
       "      <th>192</th>\n",
       "      <td>1355.438765</td>\n",
       "    </tr>\n",
       "    <tr>\n",
       "      <th>193</th>\n",
       "      <td>1961.438819</td>\n",
       "    </tr>\n",
       "    <tr>\n",
       "      <th>194</th>\n",
       "      <td>1285.317579</td>\n",
       "    </tr>\n",
       "  </tbody>\n",
       "</table>\n",
       "<p>195 rows × 1 columns</p>\n",
       "</div>"
      ],
      "text/plain": [
       "     Price_euros\n",
       "0     339.569281\n",
       "1    2459.263758\n",
       "2     968.152623\n",
       "3    1696.515924\n",
       "4    1036.547167\n",
       "..           ...\n",
       "190   758.287561\n",
       "191   737.516935\n",
       "192  1355.438765\n",
       "193  1961.438819\n",
       "194  1285.317579\n",
       "\n",
       "[195 rows x 1 columns]"
      ]
     },
     "execution_count": 318,
     "metadata": {},
     "output_type": "execute_result"
    }
   ],
   "source": [
    "result"
   ]
  }
 ],
 "metadata": {
  "kernelspec": {
   "display_name": "Python 3 (ipykernel)",
   "language": "python",
   "name": "python3"
  },
  "language_info": {
   "codemirror_mode": {
    "name": "ipython",
    "version": 3
   },
   "file_extension": ".py",
   "mimetype": "text/x-python",
   "name": "python",
   "nbconvert_exporter": "python",
   "pygments_lexer": "ipython3",
   "version": "3.10.4"
  }
 },
 "nbformat": 4,
 "nbformat_minor": 5
}
